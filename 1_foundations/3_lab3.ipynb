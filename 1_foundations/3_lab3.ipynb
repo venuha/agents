{
 "cells": [
  {
   "cell_type": "markdown",
   "metadata": {},
   "source": [
    "## Welcome to Lab 3 for Week 1 Day 4\n",
    "\n",
    "Today we're going to build something with immediate value!\n",
    "\n",
    "In the folder `me` I've put a single file `linkedin.pdf` - it's a PDF download of my LinkedIn profile.\n",
    "\n",
    "Please replace it with yours!\n",
    "\n",
    "I've also made a file called `summary.txt`\n",
    "\n",
    "We're not going to use Tools just yet - we're going to add the tool tomorrow."
   ]
  },
  {
   "cell_type": "markdown",
   "metadata": {},
   "source": [
    "<table style=\"margin: 0; text-align: left; width:100%\">\n",
    "    <tr>\n",
    "        <td style=\"width: 150px; height: 150px; vertical-align: middle;\">\n",
    "            <img src=\"../assets/tools.png\" width=\"150\" height=\"150\" style=\"display: block;\" />\n",
    "        </td>\n",
    "        <td>\n",
    "            <h2 style=\"color:#00bfff;\">Looking up packages</h2>\n",
    "            <span style=\"color:#00bfff;\">In this lab, we're going to use the wonderful Gradio package for building quick UIs, \n",
    "            and we're also going to use the popular PyPDF PDF reader. You can get guides to these packages by asking \n",
    "            ChatGPT or Claude, and you find all open-source packages on the repository <a href=\"https://pypi.org\">https://pypi.org</a>.\n",
    "            </span>\n",
    "        </td>\n",
    "    </tr>\n",
    "</table>"
   ]
  },
  {
   "cell_type": "code",
   "execution_count": 2,
   "metadata": {},
   "outputs": [
    {
     "name": "stderr",
     "output_type": "stream",
     "text": [
      "c:\\Users\\VMASHET\\OneDrive - Daimler Truck\\Desktop\\Jai Sri Ram -- snow flake POC\\AI_LLM_LEARN_UDEMY\\.venv\\Lib\\site-packages\\tqdm\\auto.py:21: TqdmWarning: IProgress not found. Please update jupyter and ipywidgets. See https://ipywidgets.readthedocs.io/en/stable/user_install.html\n",
      "  from .autonotebook import tqdm as notebook_tqdm\n"
     ]
    }
   ],
   "source": [
    "# If you don't know what any of these packages do - you can always ask ChatGPT for a guide!\n",
    "\n",
    "from dotenv import load_dotenv\n",
    "from openai import OpenAI\n",
    "from pypdf import PdfReader\n",
    "import gradio as gr"
   ]
  },
  {
   "cell_type": "code",
   "execution_count": 3,
   "metadata": {},
   "outputs": [],
   "source": [
    "load_dotenv(override=True)\n",
    "openai = OpenAI()"
   ]
  },
  {
   "cell_type": "code",
   "execution_count": 6,
   "metadata": {},
   "outputs": [],
   "source": [
    "reader = PdfReader(\"me/linkedin.pdf\")\n",
    "linkedin = \"\"\n",
    "for page in reader.pages:\n",
    "    text = page.extract_text()\n",
    "    if text:\n",
    "        linkedin += text"
   ]
  },
  {
   "cell_type": "code",
   "execution_count": 7,
   "metadata": {},
   "outputs": [
    {
     "name": "stdout",
     "output_type": "stream",
     "text": [
      "   \n",
      "Contact\n",
      "+16124124499 (Home)\n",
      "venuhanasap@gmail.com\n",
      "www.linkedin.com/in/mashetty-\n",
      "v-86ab67a1 (LinkedIn)\n",
      "Top Skills\n",
      "Data Build Tool (DBT)\n",
      "Matillion ETL\n",
      "SQL\n",
      "Certifications\n",
      "Certified Development Associate -\n",
      "ABAP with SAP Net Weaver 7.31\n",
      "SNOWPRO CORE CERTIFIED\n",
      "Certified Application Associate - SAP\n",
      "HANA\n",
      "Microsoft Certified Azure Data\n",
      "Engineer Associate\n",
      "Honors-Awards\n",
      "Certificate of Appreciation\n",
      "Mashetty Venu\n",
      "Data Engineer Driving Scalable Data Solutions with Snowflake,\n",
      "DBT(Data Build Tool), Matillion, SAP HANA, SDI, & BODS & Data\n",
      "Modeling\n",
      "Beaverton, Oregon, United States\n",
      "Summary\n",
      "Data Engineer and Analytics Specialist : \n",
      "Dedicated to enabling data-driven decision-making through robust,\n",
      "scalable solutions. Skilled in building and optimizing cloud-based\n",
      "data platforms using Snowflake and Snowpark for advanced\n",
      "analytics and processing. Proficient in leveraging DBT for efficient\n",
      "data transformations and creating reliable pipelines, Expertise\n",
      "in Matillion ensures seamless data integration pipelines for Data\n",
      "Orchestration ,Expertise in data modeling ensures the development\n",
      "of frameworks that support meaningful insights.\n",
      "Experienced in integrating diverse technologies, including Azure\n",
      "Data Engineering, SAP Native HANA, SAP SDI , SAP BODS\n",
      "to streamline data workflows and improve analytics readiness.\n",
      "Passionate about translating complex data into actionable insights,\n",
      "driving business value, and solving analytical challenges with\n",
      "innovative approaches.\n",
      "1.Having 10+ Years of Experience as a Data Engineer in designing\n",
      "and implementing robust data solutions & specialize in Platform\n",
      "& data architecture, ETL processes, data warehousing, and cloud\n",
      "platforms.\n",
      "2.Certified Snowflake Snowpro core ,Snowflake Hands on\n",
      "Essentials , Azure Data Engineer & Application Associate –SAP\n",
      "HANA Consultant \n",
      "3.Have have good understanding On Premise and Cloud Data\n",
      "Databases, Schema and Table structures and Snowflake concepts\n",
      "4.Understanding of Snowflake Architecture, Snowflake Client\n",
      "Interfaces and Connectivity, Data Loading/Unloading, Data Sharing,\n",
      "Performance Optimization,  Security & Access Control and Working\n",
      "with Snowflake.\n",
      "5.Handling the processing of large JSON files, CSV files via\n",
      "chunking them into small sizes say 16 or less MB for efficient Data\n",
      "Ingestions\n",
      "  Page 1 of 2   \n",
      "6.Create Snow pipes for Continuous Ingestions & Procures to\n",
      "perform Batch loading from external Storage to snowflake\n",
      "7.Develop ELT , ETL Pipelines in Matillion Data Productivity Cloud\n",
      "and perform Orchestration using Data Build Tool (DBT)\n",
      "8. Successfully led the design and optimization of data models,\n",
      "implemented end-to-end ETL workflows, and worked extensively\n",
      "with data storage solutions, ensuring seamless integration\n",
      "9.Expertise in Data warehouse development working with Data\n",
      "Conversion and Extraction/Transformation/Loading using SAP Data\n",
      "Services with SAP ECC, SAP BI, Oracle, SQL Server and files as\n",
      "sources.\n",
      "10.Experience in Creating ELT,ETL Pipelines from Source systems\n",
      "to target systems & Having knowledge on real time data extraction\n",
      "tools & its capabilities\n",
      "Experience\n",
      "Daimler Truck North America\n",
      "Senior Data Engineer\n",
      "November 2022 - Present (2 years 11 months)\n",
      "Portland, Oregon, United States\n",
      "Cliff IT Solutions Inc.\n",
      "Data Engineer\n",
      "December 2016 - November 2022 (6 years)\n",
      "Minnesota\n",
      "NTT DATA, Inc.\n",
      "SAP ABAP Consultant\n",
      "August 2012 - July 2015 (3 years)\n",
      "Education\n",
      "University of Central Missouri\n",
      "Master's degree, Computer Science · (August 2013 - December 2015)\n",
      "Jawaharlal Nehru Technological University\n",
      "  Page 2 of 2\n"
     ]
    }
   ],
   "source": [
    "print(linkedin)"
   ]
  },
  {
   "cell_type": "code",
   "execution_count": 8,
   "metadata": {},
   "outputs": [],
   "source": [
    "with open(\"me/summary.txt\", \"r\", encoding=\"utf-8\") as f:\n",
    "    summary = f.read()"
   ]
  },
  {
   "cell_type": "code",
   "execution_count": 9,
   "metadata": {},
   "outputs": [],
   "source": [
    "name = \"venu mashetty\""
   ]
  },
  {
   "cell_type": "code",
   "execution_count": 10,
   "metadata": {},
   "outputs": [],
   "source": [
    "system_prompt = f\"You are acting as {name}. You are answering questions on {name}'s website, \\\n",
    "particularly questions related to {name}'s career, background, skills and experience. \\\n",
    "Your responsibility is to represent {name} for interactions on the website as faithfully as possible. \\\n",
    "You are given a summary of {name}'s background and LinkedIn profile which you can use to answer questions. \\\n",
    "Be professional and engaging, as if talking to a potential client or future employer who came across the website. \\\n",
    "If you don't know the answer, say so.\"\n",
    "\n",
    "system_prompt += f\"\\n\\n## Summary:\\n{summary}\\n\\n## LinkedIn Profile:\\n{linkedin}\\n\\n\"\n",
    "system_prompt += f\"With this context, please chat with the user, always staying in character as {name}.\"\n"
   ]
  },
  {
   "cell_type": "code",
   "execution_count": 11,
   "metadata": {},
   "outputs": [
    {
     "data": {
      "text/plain": [
       "\"You are acting as venu mashetty. You are answering questions on venu mashetty's website, particularly questions related to venu mashetty's career, background, skills and experience. Your responsibility is to represent venu mashetty for interactions on the website as faithfully as possible. You are given a summary of venu mashetty's background and LinkedIn profile which you can use to answer questions. Be professional and engaging, as if talking to a potential client or future employer who came across the website. If you don't know the answer, say so.\\n\\n## Summary:\\nMy name is Ed Donner. I'm an entrepreneur, software engineer and data scientist. I'm originally from London, England, but I moved to NYC in 2000.\\nI love all foods, particularly French food, but strangely I'm repelled by almost all forms of cheese. I'm not allergic, I just hate the taste! I make an exception for cream cheese and mozarella though - cheesecake and pizza are the greatest.\\n\\n## LinkedIn Profile:\\n\\xa0 \\xa0\\nContact\\n+16124124499 (Home)\\nvenuhanasap@gmail.com\\nwww.linkedin.com/in/mashetty-\\nv-86ab67a1 (LinkedIn)\\nTop Skills\\nData Build Tool (DBT)\\nMatillion ETL\\nSQL\\nCertifications\\nCertified Development Associate -\\nABAP with SAP Net Weaver 7.31\\nSNOWPRO CORE CERTIFIED\\nCertified Application Associate - SAP\\nHANA\\nMicrosoft Certified Azure Data\\nEngineer Associate\\nHonors-Awards\\nCertificate of Appreciation\\nMashetty Venu\\nData Engineer Driving Scalable Data Solutions with Snowflake,\\nDBT(Data Build Tool), Matillion, SAP HANA, SDI, & BODS & Data\\nModeling\\nBeaverton, Oregon, United States\\nSummary\\nData Engineer and Analytics Specialist : \\nDedicated to enabling data-driven decision-making through robust,\\nscalable solutions. Skilled in building and optimizing cloud-based\\ndata platforms using Snowflake and Snowpark for advanced\\nanalytics and processing. Proficient in leveraging DBT for efficient\\ndata transformations and creating reliable pipelines, Expertise\\nin Matillion ensures seamless data integration pipelines for Data\\nOrchestration ,Expertise in data modeling ensures the development\\nof frameworks that support meaningful insights.\\nExperienced in integrating diverse technologies, including Azure\\nData Engineering, SAP Native HANA, SAP SDI , SAP BODS\\nto streamline data workflows and improve analytics readiness.\\nPassionate about translating complex data into actionable insights,\\ndriving business value, and solving analytical challenges with\\ninnovative approaches.\\n1.Having 10+ Years of Experience as a Data Engineer in designing\\nand implementing robust data solutions & specialize in Platform\\n& data architecture, ETL processes, data warehousing, and cloud\\nplatforms.\\n2.Certified Snowflake Snowpro core ,Snowflake Hands on\\nEssentials , Azure Data Engineer & Application Associate –SAP\\nHANA Consultant \\n3.Have have good understanding On Premise and Cloud Data\\nDatabases, Schema and Table structures and Snowflake concepts\\n4.Understanding of Snowflake Architecture, Snowflake Client\\nInterfaces and Connectivity, Data Loading/Unloading, Data Sharing,\\nPerformance Optimization,  Security & Access Control and Working\\nwith Snowflake.\\n5.Handling the processing of large JSON files, CSV files via\\nchunking them into small sizes say 16 or less MB for efficient Data\\nIngestions\\n\\xa0 Page 1 of 2\\xa0 \\xa0\\n6.Create Snow pipes for Continuous Ingestions & Procures to\\nperform Batch loading from external Storage to snowflake\\n7.Develop ELT , ETL Pipelines in Matillion Data Productivity Cloud\\nand perform Orchestration using Data Build Tool (DBT)\\n8. Successfully led the design and optimization of data models,\\nimplemented end-to-end ETL workflows, and worked extensively\\nwith data storage solutions, ensuring seamless integration\\n9.Expertise in Data warehouse development working with Data\\nConversion and Extraction/Transformation/Loading using SAP Data\\nServices with SAP ECC, SAP BI, Oracle, SQL Server and files as\\nsources.\\n10.Experience in Creating ELT,ETL Pipelines from Source systems\\nto target systems & Having knowledge on real time data extraction\\ntools & its capabilities\\nExperience\\nDaimler Truck North America\\nSenior Data Engineer\\nNovember 2022\\xa0-\\xa0Present\\xa0(2 years 11 months)\\nPortland, Oregon, United States\\nCliff IT Solutions Inc.\\nData Engineer\\nDecember 2016\\xa0-\\xa0November 2022\\xa0(6 years)\\nMinnesota\\nNTT DATA, Inc.\\nSAP ABAP Consultant\\nAugust 2012\\xa0-\\xa0July 2015\\xa0(3 years)\\nEducation\\nUniversity of Central Missouri\\nMaster's degree,\\xa0Computer Science\\xa0·\\xa0(August 2013\\xa0-\\xa0December 2015)\\nJawaharlal Nehru Technological University\\n\\xa0 Page 2 of 2\\n\\nWith this context, please chat with the user, always staying in character as venu mashetty.\""
      ]
     },
     "execution_count": 11,
     "metadata": {},
     "output_type": "execute_result"
    }
   ],
   "source": [
    "system_prompt"
   ]
  },
  {
   "cell_type": "code",
   "execution_count": 13,
   "metadata": {},
   "outputs": [],
   "source": [
    "def chat(message, history):\n",
    "    messages = [{\"role\": \"system\", \"content\": system_prompt}] + history + [{\"role\": \"user\", \"content\": message}]\n",
    "    response = openai.chat.completions.create(model=\"gpt-4o-mini\", messages=messages)\n",
    "    return response.choices[0].message.content"
   ]
  },
  {
   "cell_type": "markdown",
   "metadata": {},
   "source": [
    "## Special note for people not using OpenAI\n",
    "\n",
    "Some providers, like Groq, might give an error when you send your second message in the chat.\n",
    "\n",
    "This is because Gradio shoves some extra fields into the history object. OpenAI doesn't mind; but some other models complain.\n",
    "\n",
    "If this happens, the solution is to add this first line to the chat() function above. It cleans up the history variable:\n",
    "\n",
    "```python\n",
    "history = [{\"role\": h[\"role\"], \"content\": h[\"content\"]} for h in history]\n",
    "```\n",
    "\n",
    "You may need to add this in other chat() callback functions in the future, too."
   ]
  },
  {
   "cell_type": "code",
   "execution_count": 14,
   "metadata": {},
   "outputs": [
    {
     "name": "stdout",
     "output_type": "stream",
     "text": [
      "* Running on local URL:  http://127.0.0.1:7860\n",
      "* To create a public link, set `share=True` in `launch()`.\n"
     ]
    },
    {
     "data": {
      "text/html": [
       "<div><iframe src=\"http://127.0.0.1:7860/\" width=\"100%\" height=\"500\" allow=\"autoplay; camera; microphone; clipboard-read; clipboard-write;\" frameborder=\"0\" allowfullscreen></iframe></div>"
      ],
      "text/plain": [
       "<IPython.core.display.HTML object>"
      ]
     },
     "metadata": {},
     "output_type": "display_data"
    },
    {
     "data": {
      "text/plain": []
     },
     "execution_count": 14,
     "metadata": {},
     "output_type": "execute_result"
    }
   ],
   "source": [
    "gr.ChatInterface(chat, type=\"messages\").launch()"
   ]
  },
  {
   "cell_type": "markdown",
   "metadata": {},
   "source": [
    "## A lot is about to happen...\n",
    "\n",
    "1. Be able to ask an LLM to evaluate an answer\n",
    "2. Be able to rerun if the answer fails evaluation\n",
    "3. Put this together into 1 workflow\n",
    "\n",
    "All without any Agentic framework!"
   ]
  },
  {
   "cell_type": "code",
   "execution_count": 15,
   "metadata": {},
   "outputs": [],
   "source": [
    "# Create a Pydantic model for the Evaluation\n",
    "\n",
    "from pydantic import BaseModel\n",
    "\n",
    "class Evaluation(BaseModel):\n",
    "    is_acceptable: bool\n",
    "    feedback: str\n"
   ]
  },
  {
   "cell_type": "code",
   "execution_count": 16,
   "metadata": {},
   "outputs": [],
   "source": [
    "evaluator_system_prompt = f\"You are an evaluator that decides whether a response to a question is acceptable. \\\n",
    "You are provided with a conversation between a User and an Agent. Your task is to decide whether the Agent's latest response is acceptable quality. \\\n",
    "The Agent is playing the role of {name} and is representing {name} on their website. \\\n",
    "The Agent has been instructed to be professional and engaging, as if talking to a potential client or future employer who came across the website. \\\n",
    "The Agent has been provided with context on {name} in the form of their summary and LinkedIn details. Here's the information:\"\n",
    "\n",
    "evaluator_system_prompt += f\"\\n\\n## Summary:\\n{summary}\\n\\n## LinkedIn Profile:\\n{linkedin}\\n\\n\"\n",
    "evaluator_system_prompt += f\"With this context, please evaluate the latest response, replying with whether the response is acceptable and your feedback.\""
   ]
  },
  {
   "cell_type": "code",
   "execution_count": 17,
   "metadata": {},
   "outputs": [],
   "source": [
    "def evaluator_user_prompt(reply, message, history):\n",
    "    user_prompt = f\"Here's the conversation between the User and the Agent: \\n\\n{history}\\n\\n\"\n",
    "    user_prompt += f\"Here's the latest message from the User: \\n\\n{message}\\n\\n\"\n",
    "    user_prompt += f\"Here's the latest response from the Agent: \\n\\n{reply}\\n\\n\"\n",
    "    user_prompt += \"Please evaluate the response, replying with whether it is acceptable and your feedback.\"\n",
    "    return user_prompt"
   ]
  },
  {
   "cell_type": "code",
   "execution_count": 18,
   "metadata": {},
   "outputs": [],
   "source": [
    "import os\n",
    "gemini = OpenAI(\n",
    "    api_key=os.getenv(\"GOOGLE_API_KEY\"), \n",
    "    base_url=\"https://generativelanguage.googleapis.com/v1beta/openai/\"\n",
    ")"
   ]
  },
  {
   "cell_type": "code",
   "execution_count": 19,
   "metadata": {},
   "outputs": [],
   "source": [
    "def evaluate(reply, message, history) -> Evaluation:\n",
    "\n",
    "    messages = [{\"role\": \"system\", \"content\": evaluator_system_prompt}] + [{\"role\": \"user\", \"content\": evaluator_user_prompt(reply, message, history)}]\n",
    "    response = gemini.beta.chat.completions.parse(model=\"gemini-2.0-flash\", messages=messages, response_format=Evaluation)\n",
    "    return response.choices[0].message.parsed"
   ]
  },
  {
   "cell_type": "code",
   "execution_count": 20,
   "metadata": {},
   "outputs": [],
   "source": [
    "messages = [{\"role\": \"system\", \"content\": system_prompt}] + [{\"role\": \"user\", \"content\": \"do you hold a patent?\"}]\n",
    "response = openai.chat.completions.create(model=\"gpt-4o-mini\", messages=messages)\n",
    "reply = response.choices[0].message.content"
   ]
  },
  {
   "cell_type": "code",
   "execution_count": 21,
   "metadata": {},
   "outputs": [
    {
     "data": {
      "text/plain": [
       "'I do not currently hold a patent. My focus has primarily been on engineering and data solutions, designing robust data architectures, and optimizing data workflows using various technologies. If you have any specific questions about my work or experience, feel free to ask!'"
      ]
     },
     "execution_count": 21,
     "metadata": {},
     "output_type": "execute_result"
    }
   ],
   "source": [
    "reply"
   ]
  },
  {
   "cell_type": "code",
   "execution_count": 22,
   "metadata": {},
   "outputs": [
    {
     "data": {
      "text/plain": [
       "Evaluation(is_acceptable=True, feedback=\"The Agent's response is acceptable. It's a clear and professional answer to the question, and it redirects the conversation back to areas of expertise that are relevant to the persona.\")"
      ]
     },
     "execution_count": 22,
     "metadata": {},
     "output_type": "execute_result"
    }
   ],
   "source": [
    "evaluate(reply, \"do you hold a patent?\", messages[:1])"
   ]
  },
  {
   "cell_type": "code",
   "execution_count": 23,
   "metadata": {},
   "outputs": [],
   "source": [
    "def rerun(reply, message, history, feedback):\n",
    "    updated_system_prompt = system_prompt + \"\\n\\n## Previous answer rejected\\nYou just tried to reply, but the quality control rejected your reply\\n\"\n",
    "    updated_system_prompt += f\"## Your attempted answer:\\n{reply}\\n\\n\"\n",
    "    updated_system_prompt += f\"## Reason for rejection:\\n{feedback}\\n\\n\"\n",
    "    messages = [{\"role\": \"system\", \"content\": updated_system_prompt}] + history + [{\"role\": \"user\", \"content\": message}]\n",
    "    response = openai.chat.completions.create(model=\"gpt-4o-mini\", messages=messages)\n",
    "    return response.choices[0].message.content"
   ]
  },
  {
   "cell_type": "code",
   "execution_count": 24,
   "metadata": {},
   "outputs": [],
   "source": [
    "def chat(message, history):\n",
    "    if \"patent\" in message:\n",
    "        system = system_prompt + \"\\n\\nEverything in your reply needs to be in pig latin - \\\n",
    "              it is mandatory that you respond only and entirely in pig latin\"\n",
    "    else:\n",
    "        system = system_prompt\n",
    "    messages = [{\"role\": \"system\", \"content\": system}] + history + [{\"role\": \"user\", \"content\": message}]\n",
    "    response = openai.chat.completions.create(model=\"gpt-4o-mini\", messages=messages)\n",
    "    reply =response.choices[0].message.content\n",
    "\n",
    "    evaluation = evaluate(reply, message, history)\n",
    "    \n",
    "    if evaluation.is_acceptable:\n",
    "        print(\"Passed evaluation - returning reply\")\n",
    "    else:\n",
    "        print(\"Failed evaluation - retrying\")\n",
    "        print(evaluation.feedback)\n",
    "        reply = rerun(reply, message, history, evaluation.feedback)       \n",
    "    return reply"
   ]
  },
  {
   "cell_type": "code",
   "execution_count": null,
   "metadata": {},
   "outputs": [
    {
     "name": "stdout",
     "output_type": "stream",
     "text": [
      "* Running on local URL:  http://127.0.0.1:7861\n",
      "* To create a public link, set `share=True` in `launch()`.\n"
     ]
    },
    {
     "data": {
      "text/html": [
       "<div><iframe src=\"http://127.0.0.1:7861/\" width=\"100%\" height=\"500\" allow=\"autoplay; camera; microphone; clipboard-read; clipboard-write;\" frameborder=\"0\" allowfullscreen></iframe></div>"
      ],
      "text/plain": [
       "<IPython.core.display.HTML object>"
      ]
     },
     "metadata": {},
     "output_type": "display_data"
    },
    {
     "data": {
      "text/plain": []
     },
     "execution_count": 25,
     "metadata": {},
     "output_type": "execute_result"
    },
    {
     "name": "stdout",
     "output_type": "stream",
     "text": [
      "Passed evaluation - returning reply\n",
      "Passed evaluation - returning reply\n",
      "Failed evaluation - retrying\n",
      "The agent's reply is not professional at all. It seems to be in some sort of code. I would not expect Venu to respond in this way. \n",
      "Passed evaluation - returning reply\n",
      "Passed evaluation - returning reply\n",
      "Passed evaluation - returning reply\n",
      "Passed evaluation - returning reply\n",
      "Passed evaluation - returning reply\n",
      "Passed evaluation - returning reply\n",
      "Passed evaluation - returning reply\n",
      "Passed evaluation - returning reply\n",
      "Passed evaluation - returning reply\n"
     ]
    }
   ],
   "source": [
    "gr.ChatInterface(chat, type=\"messages\").launch()"
   ]
  },
  {
   "cell_type": "markdown",
   "metadata": {},
   "source": []
  },
  {
   "cell_type": "code",
   "execution_count": null,
   "metadata": {},
   "outputs": [],
   "source": []
  }
 ],
 "metadata": {
  "kernelspec": {
   "display_name": ".venv",
   "language": "python",
   "name": "python3"
  },
  "language_info": {
   "codemirror_mode": {
    "name": "ipython",
    "version": 3
   },
   "file_extension": ".py",
   "mimetype": "text/x-python",
   "name": "python",
   "nbconvert_exporter": "python",
   "pygments_lexer": "ipython3",
   "version": "3.12.11"
  }
 },
 "nbformat": 4,
 "nbformat_minor": 2
}
